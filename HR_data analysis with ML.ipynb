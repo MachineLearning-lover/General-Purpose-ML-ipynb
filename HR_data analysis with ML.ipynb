{
 "cells": [
  {
   "cell_type": "code",
   "execution_count": 1,
   "metadata": {
    "collapsed": false
   },
   "outputs": [],
   "source": [
    "#Firstly, I would present you some information we could extract easily from the data at hand, and afterwards I would \n",
    "#use ML to extract information from these data, and than I would asnwer some questions\n",
    "#imports\n",
    "import numpy as np\n",
    "import pandas as pd\n",
    "import seaborn as sns\n",
    "import matplotlib.pyplot as plt\n",
    "import matplotlib.mlab as mlab\n",
    "import scipy.stats\n",
    "from sklearn import tree\n",
    "from sklearn.model_selection import train_test_split\n",
    "from sklearn.metrics import accuracy_score\n",
    "from sklearn.metrics import confusion_matrix\n",
    "from sklearn import ensemble\n",
    "import pylab as pl"
   ]
  },
  {
   "cell_type": "code",
   "execution_count": 2,
   "metadata": {
    "collapsed": false
   },
   "outputs": [
    {
     "name": "stdout",
     "output_type": "stream",
     "text": [
      "   satisfaction_level  last_evaluation  number_project  average_montly_hours  \\\n",
      "0                0.38             0.53               2                   157   \n",
      "1                0.80             0.86               5                   262   \n",
      "2                0.11             0.88               7                   272   \n",
      "3                0.72             0.87               5                   223   \n",
      "4                0.37             0.52               2                   159   \n",
      "\n",
      "   time_spend_company  Work_accident  left  promotion_last_5years  sales  \\\n",
      "0                   3              0     1                      0  sales   \n",
      "1                   6              0     1                      0  sales   \n",
      "2                   4              0     1                      0  sales   \n",
      "3                   5              0     1                      0  sales   \n",
      "4                   3              0     1                      0  sales   \n",
      "\n",
      "   salary  \n",
      "0     low  \n",
      "1  medium  \n",
      "2  medium  \n",
      "3     low  \n",
      "4     low  \n"
     ]
    }
   ],
   "source": [
    "#reading data\n",
    "dr = pd.read_csv(\"HR_comma_sep.csv\")\n",
    "\n",
    "#printing the head\n",
    "print(dr.head())"
   ]
  },
  {
   "cell_type": "code",
   "execution_count": 3,
   "metadata": {
    "collapsed": false
   },
   "outputs": [
    {
     "name": "stdout",
     "output_type": "stream",
     "text": [
      " Avg satisfaction is  0.6128335222348166\n",
      " Median satisfaction is  0.64\n",
      " Std is  0.24862236268207252\n"
     ]
    }
   ],
   "source": [
    "#let`s look at some statistics about satisfaction_level\n",
    "avg_satisfaction = np.mean(dr['satisfaction_level'])\n",
    "med_satisfaction = np.median(dr['satisfaction_level'])\n",
    "std_satisfaction = np.std(dr['satisfaction_level'])\n",
    "print(\" Avg satisfaction is \",avg_satisfaction)\n",
    "print(\" Median satisfaction is \",med_satisfaction)\n",
    "print(\" Std is \",std_satisfaction)"
   ]
  },
  {
   "cell_type": "code",
   "execution_count": 4,
   "metadata": {
    "collapsed": false
   },
   "outputs": [
    {
     "data": {
      "image/png": "[encoded data removed]",
      "text/plain": [
       "<matplotlib.figure.Figure at 0x1e7f9ff5898>"
      ]
     },
     "metadata": {},
     "output_type": "display_data"
    },
    {
     "name": "stdout",
     "output_type": "stream",
     "text": [
      "The difference in information between the 2 distributions is  0.325263079485  bits\n"
     ]
    }
   ],
   "source": [
    "#How much information is contained in this distribution compared to the normal distribution?\n",
    "#I construct the normal distribution first:\n",
    "x = 0 + 1 * np.random.rand(1000) # the Gaussian distribution with 0 mean and 1 std\n",
    "\n",
    "#I construct the approximate distribution given by the date before:\n",
    "y = avg_satisfaction + std_satisfaction * np.random.rand(1000) # the Gaussian that approximates my data\n",
    "\n",
    "#Lets compare both to see what differences of information does appear\n",
    "difference_info = scipy.stats.entropy(y,x)\n",
    "\n",
    "plt.plot(np.linspace(-3,3,100),mlab.normpdf(np.linspace(-3,3,100),0,1)) #the gaussian \n",
    "plt.plot(np.linspace(-3,3,100),mlab.normpdf(np.linspace(-3,3,100),avg_satisfaction,std_satisfaction)) #the approx distribution \n",
    "plt.legend(['Normal distribution','Satisfaction distribution'])\n",
    "plt.title('Distribution plot')\n",
    "plt.show()\n",
    "\n",
    "#Print\n",
    "print(\"The difference in information between the 2 distributions is \",difference_info,\" bits\")"
   ]
  },
  {
   "cell_type": "code",
   "execution_count": 5,
   "metadata": {
    "collapsed": false
   },
   "outputs": [
    {
     "data": {
      "image/png": "[encoded data removed]",
      "text/plain": [
       "<matplotlib.figure.Figure at 0x1e7f9abaeb8>"
      ]
     },
     "metadata": {},
     "output_type": "display_data"
    }
   ],
   "source": [
    "#ploting a histogram\n",
    "%matplotlib inline\n",
    "plt.hist(dr['satisfaction_level'],bins=20)\n",
    "plt.title('Satisfaction histogram')\n",
    "plt.xlabel('Bins')\n",
    "plt.ylabel('Frequency')\n",
    "plt.show()\n"
   ]
  },
  {
   "cell_type": "code",
   "execution_count": 6,
   "metadata": {
    "collapsed": false
   },
   "outputs": [
    {
     "name": "stdout",
     "output_type": "stream",
     "text": [
      "28.16187745849723 %\n"
     ]
    }
   ],
   "source": [
    "#How many people are more than 80% satisfied?\n",
    "print(len(dr[dr['satisfaction_level'] >= 0.8])/len(dr)*100,\"%\")"
   ]
  },
  {
   "cell_type": "code",
   "execution_count": 7,
   "metadata": {
    "collapsed": false
   },
   "outputs": [
    {
     "name": "stdout",
     "output_type": "stream",
     "text": [
      "-0.0200481132195\n"
     ]
    }
   ],
   "source": [
    "#How work hours is related to the satisfaction levels?\n",
    "print(scipy.stats.stats.pearsonr(dr['satisfaction_level'],dr['average_montly_hours'])[0])\n",
    "#It can be seen they are not correlated"
   ]
  },
  {
   "cell_type": "code",
   "execution_count": 8,
   "metadata": {
    "collapsed": false
   },
   "outputs": [
    {
     "data": {
      "image/png": "[encoded data removed]",
      "text/plain": [
       "<matplotlib.figure.Figure at 0x1e7fa231c88>"
      ]
     },
     "metadata": {},
     "output_type": "display_data"
    }
   ],
   "source": [
    "#Would you show me the Person`s heatmap to see how things correlate?\n",
    "date = (dr[dr.columns[:6]])\n",
    "corr = date.corr()\n",
    "sns.heatmap(corr)\n",
    "plt.show()\n",
    "\n",
    "#It can be seen that the majority of crosscorrelation is with by last_evaluation,number_project \n",
    "#and average_montly_hours"
   ]
  },
  {
   "cell_type": "code",
   "execution_count": 9,
   "metadata": {
    "collapsed": false
   },
   "outputs": [
    {
     "data": {
      "image/png": "[encoded data removed]",
      "text/plain": [
       "<matplotlib.figure.Figure at 0x1e7fa2b20b8>"
      ]
     },
     "metadata": {},
     "output_type": "display_data"
    }
   ],
   "source": [
    "#What are the most influential features?\n",
    "#We will use PCA to find out\n",
    "U,S,V = np.linalg.svd(corr.values)\n",
    "plt.stem(S)\n",
    "plt.ylabel('singular values')\n",
    "plt.xlabel('place of importance of sigmas')\n",
    "plt.title('PCA')\n",
    "plt.show()"
   ]
  },
  {
   "cell_type": "code",
   "execution_count": 10,
   "metadata": {
    "collapsed": false
   },
   "outputs": [
    {
     "name": "stdout",
     "output_type": "stream",
     "text": [
      "['sales' 'accounting' 'hr' 'technical' 'support' 'management' 'IT'\n",
      " 'product_mng' 'marketing' 'RandD']\n"
     ]
    }
   ],
   "source": [
    "#What are the profession within our data?\n",
    "print(dr['sales'].unique())"
   ]
  },
  {
   "cell_type": "code",
   "execution_count": 11,
   "metadata": {
    "collapsed": false
   },
   "outputs": [
    {
     "name": "stdout",
     "output_type": "stream",
     "text": [
      "sales\n",
      "IT             0.618142\n",
      "RandD          0.619822\n",
      "accounting     0.582151\n",
      "hr             0.598809\n",
      "management     0.621349\n",
      "marketing      0.618601\n",
      "product_mng    0.619634\n",
      "sales          0.614447\n",
      "support        0.618300\n",
      "technical      0.607897\n",
      "Name: satisfaction_level, dtype: float64\n"
     ]
    }
   ],
   "source": [
    "#Which is the most happy profession?\n",
    "a = dr.groupby(['sales'])['satisfaction_level'].mean()\n",
    "print(a)\n"
   ]
  },
  {
   "cell_type": "code",
   "execution_count": 12,
   "metadata": {
    "collapsed": false
   },
   "outputs": [
    {
     "name": "stdout",
     "output_type": "stream",
     "text": [
      "             satisfaction_level  last_evaluation  number_project  \\\n",
      "sales                                                              \n",
      "IT                     0.618142         0.716830        3.816626   \n",
      "RandD                  0.619822         0.712122        3.853875   \n",
      "accounting             0.582151         0.717718        3.825293   \n",
      "hr                     0.598809         0.708850        3.654939   \n",
      "management             0.621349         0.724000        3.860317   \n",
      "marketing              0.618601         0.715886        3.687646   \n",
      "product_mng            0.619634         0.714756        3.807095   \n",
      "sales                  0.614447         0.709717        3.776329   \n",
      "support                0.618300         0.723109        3.803948   \n",
      "technical              0.607897         0.721099        3.877941   \n",
      "\n",
      "             average_montly_hours  time_spend_company  Work_accident  \\\n",
      "sales                                                                  \n",
      "IT                     202.215974            3.468623       0.133659   \n",
      "RandD                  200.800508            3.367217       0.170267   \n",
      "accounting             201.162973            3.522816       0.125163   \n",
      "hr                     198.684709            3.355886       0.120433   \n",
      "management             201.249206            4.303175       0.163492   \n",
      "marketing              199.385781            3.569930       0.160839   \n",
      "product_mng            199.965632            3.475610       0.146341   \n",
      "sales                  200.911353            3.534058       0.141787   \n",
      "support                200.758188            3.393001       0.154778   \n",
      "technical              202.497426            3.411397       0.140074   \n",
      "\n",
      "                 left  promotion_last_5years  \n",
      "sales                                         \n",
      "IT           0.222494               0.002445  \n",
      "RandD        0.153748               0.034307  \n",
      "accounting   0.265971               0.018253  \n",
      "hr           0.290934               0.020298  \n",
      "management   0.144444               0.109524  \n",
      "marketing    0.236597               0.050117  \n",
      "product_mng  0.219512               0.000000  \n",
      "sales        0.244928               0.024155  \n",
      "support      0.248991               0.008973  \n",
      "technical    0.256250               0.010294  \n"
     ]
    }
   ],
   "source": [
    "#We can see each profession summary\n",
    "print((dr.groupby(['sales']).mean()))"
   ]
  },
  {
   "cell_type": "code",
   "execution_count": 13,
   "metadata": {
    "collapsed": false
   },
   "outputs": [
    {
     "name": "stdout",
     "output_type": "stream",
     "text": [
      "satisfaction_level         0.621349\n",
      "last_evaluation            0.724000\n",
      "number_project             3.877941\n",
      "average_montly_hours     202.497426\n",
      "time_spend_company         4.303175\n",
      "Work_accident              0.170267\n",
      "left                       0.290934\n",
      "promotion_last_5years      0.109524\n",
      "dtype: float64\n"
     ]
    }
   ],
   "source": [
    "#We can see the management is the most happy\n",
    "print((dr.groupby(['sales']).mean()).max())"
   ]
  },
  {
   "cell_type": "code",
   "execution_count": 14,
   "metadata": {
    "collapsed": false
   },
   "outputs": [
    {
     "name": "stdout",
     "output_type": "stream",
     "text": [
      "satisfaction_level         0.582151\n",
      "last_evaluation            0.708850\n",
      "number_project             3.654939\n",
      "average_montly_hours     198.684709\n",
      "time_spend_company         3.355886\n",
      "Work_accident              0.120433\n",
      "left                       0.144444\n",
      "promotion_last_5years      0.000000\n",
      "dtype: float64\n"
     ]
    }
   ],
   "source": [
    "#Which is the least happy profession?\n",
    "print((dr.groupby(['sales']).mean()).min())\n",
    "#The accounting is the most disliked profession"
   ]
  },
  {
   "cell_type": "code",
   "execution_count": 15,
   "metadata": {
    "collapsed": false
   },
   "outputs": [
    {
     "name": "stdout",
     "output_type": "stream",
     "text": [
      "['satisfaction_level' 'last_evaluation' 'number_project'\n",
      " 'average_montly_hours' 'time_spend_company' 'Work_accident' 'left'\n",
      " 'promotion_last_5years' 'sales' 'salary']\n"
     ]
    }
   ],
   "source": [
    "#See what rules will work to find the employees that will leave the job?\n",
    "print((dr.columns.values))"
   ]
  },
  {
   "cell_type": "code",
   "execution_count": 16,
   "metadata": {
    "collapsed": false
   },
   "outputs": [],
   "source": [
    "# Split data\n",
    "Y_train, Y_test = train_test_split(dr['left'],test_size=0.33,random_state=0)\n",
    "column_list = dr.columns[:6] # using just those columns from all\n",
    "X_train, X_test = train_test_split(dr.columns[:6],test_size = 0.33,random_state = 0)\n",
    "\n",
    "# Preprocess X_train and X_test because they are a list \n",
    "X_train, X_test = train_test_split(dr[X_train.values],test_size = 0.33,random_state=0)\n",
    "\n",
    "# Create the Tree Classifier\n",
    "clf = tree.DecisionTreeClassifier(random_state=0,max_depth=3,criterion='gini')\n",
    "clf.fit(X_train,Y_train)\n",
    "\n",
    "# Exporting the tree for visualization purposes\n",
    "tree.export_graphviz(clf,out_file='tree_ipynbk.dot',feature_names=(dr.columns[:6]))\n"
   ]
  },
  {
   "cell_type": "code",
   "execution_count": 17,
   "metadata": {
    "collapsed": false
   },
   "outputs": [
    {
     "data": {
      "image/png": "[encoded data removed]",
      "text/plain": [
       "<matplotlib.figure.Figure at 0x1e7f9ed8b70>"
      ]
     },
     "metadata": {},
     "output_type": "display_data"
    },
    {
     "name": "stdout",
     "output_type": "stream",
     "text": [
      "[[3448  370]\n",
      " [  74 1058]]\n"
     ]
    }
   ],
   "source": [
    "a = confusion_matrix(y_true=Y_test,y_pred=clf.predict(X_test))\n",
    "pl.matshow(a)\n",
    "pl.colorbar()\n",
    "pl.title('Confusion matrix for Random Forest Classifier')\n",
    "pl.xlabel('Predicted value')\n",
    "pl.ylabel('Actual value')\n",
    "pl.show()\n",
    "print(a)"
   ]
  },
  {
   "cell_type": "code",
   "execution_count": 18,
   "metadata": {
    "collapsed": false
   },
   "outputs": [
    {
     "name": "stdout",
     "output_type": "stream",
     "text": [
      "The accuracy is  91.0303030303 %\n"
     ]
    }
   ],
   "source": [
    "# Predict and see how good is our predictor\n",
    "print(\"The accuracy is \",accuracy_score(y_true=Y_test,y_pred=clf.predict(X_test)) *100, \"%\")"
   ]
  },
  {
   "cell_type": "code",
   "execution_count": 19,
   "metadata": {
    "collapsed": false
   },
   "outputs": [
    {
     "data": {
      "text/plain": [
       "RandomForestClassifier(bootstrap=True, class_weight=None, criterion='gini',\n",
       "            max_depth=3, max_features='auto', max_leaf_nodes=None,\n",
       "            min_impurity_split=1e-07, min_samples_leaf=1,\n",
       "            min_samples_split=2, min_weight_fraction_leaf=0.0,\n",
       "            n_estimators=50, n_jobs=1, oob_score=False, random_state=None,\n",
       "            verbose=0, warm_start=False)"
      ]
     },
     "execution_count": 19,
     "metadata": {},
     "output_type": "execute_result"
    }
   ],
   "source": [
    "# Let us now use random forests to see if we could improve the accuracy of our prediction\n",
    "clf2 = ensemble.RandomForestClassifier(n_estimators=50,max_depth=3)\n",
    "clf2.fit(X_train,Y_train)\n"
   ]
  },
  {
   "cell_type": "code",
   "execution_count": 20,
   "metadata": {
    "collapsed": false
   },
   "outputs": [
    {
     "name": "stdout",
     "output_type": "stream",
     "text": [
      "The accuracy is  91.0303030303 %\n"
     ]
    }
   ],
   "source": [
    "print(\"The accuracy is \",accuracy_score(y_true=Y_test,y_pred=clf2.predict(X_test)) *100, \"%\")"
   ]
  },
  {
   "cell_type": "code",
   "execution_count": 21,
   "metadata": {
    "collapsed": false
   },
   "outputs": [
    {
     "data": {
      "image/png": "[encoded data removed]",
      "text/plain": [
       "<matplotlib.figure.Figure at 0x1e7fa047400>"
      ]
     },
     "metadata": {},
     "output_type": "display_data"
    },
    {
     "name": "stdout",
     "output_type": "stream",
     "text": [
      "[[3733   85]\n",
      " [ 359  773]]\n"
     ]
    }
   ],
   "source": [
    "# Let`s see the confusion matrix for both classifiers\n",
    "a = confusion_matrix(y_true=Y_test,y_pred=clf2.predict(X_test))\n",
    "pl.matshow(a)\n",
    "pl.colorbar()\n",
    "pl.title('Confusion matrix for Random Forest Classifier')\n",
    "pl.xlabel('Predicted value')\n",
    "pl.ylabel('Actual value')\n",
    "pl.show()\n",
    "print(a)"
   ]
  },
  {
   "cell_type": "code",
   "execution_count": 22,
   "metadata": {
    "collapsed": false
   },
   "outputs": [
    {
     "data": {
      "text/plain": [
       "AdaBoostClassifier(algorithm='SAMME.R',\n",
       "          base_estimator=DecisionTreeClassifier(class_weight=None, criterion='gini', max_depth=3,\n",
       "            max_features=None, max_leaf_nodes=None,\n",
       "            min_impurity_split=1e-07, min_samples_leaf=1,\n",
       "            min_samples_split=2, min_weight_fraction_leaf=0.0,\n",
       "            presort=False, random_state=None, splitter='best'),\n",
       "          learning_rate=0.81, n_estimators=50, random_state=None)"
      ]
     },
     "execution_count": 22,
     "metadata": {},
     "output_type": "execute_result"
    }
   ],
   "source": [
    "# We can see that Random forest algorithm is slighly better than a simple decision tree\n",
    "clf3 = ensemble.AdaBoostClassifier(base_estimator=tree.DecisionTreeClassifier(max_depth=3),n_estimators=50,learning_rate=0.81)\n",
    "clf3.fit(X_train,Y_train)\n"
   ]
  },
  {
   "cell_type": "code",
   "execution_count": 23,
   "metadata": {
    "collapsed": false
   },
   "outputs": [
    {
     "name": "stdout",
     "output_type": "stream",
     "text": [
      "The accuracy is  97.4545454545 %\n"
     ]
    }
   ],
   "source": [
    "print(\"The accuracy is \",accuracy_score(y_true=Y_test,y_pred=clf3.predict(X_test)) *100, \"%\")"
   ]
  },
  {
   "cell_type": "code",
   "execution_count": 24,
   "metadata": {
    "collapsed": false
   },
   "outputs": [
    {
     "data": {
      "image/png": "[encoded data removed]",
      "text/plain": [
       "<matplotlib.figure.Figure at 0x1e7fa5f06a0>"
      ]
     },
     "metadata": {},
     "output_type": "display_data"
    },
    {
     "name": "stdout",
     "output_type": "stream",
     "text": [
      "[[3762   56]\n",
      " [  70 1062]]\n"
     ]
    }
   ],
   "source": [
    "# Let`s see the confusion matrix for both classifiers\n",
    "a = confusion_matrix(y_true=Y_test,y_pred=clf3.predict(X_test))\n",
    "pl.matshow(a)\n",
    "pl.colorbar()\n",
    "pl.title('Confusion matrix for Ada Boost ')\n",
    "pl.xlabel('Predicted value')\n",
    "pl.ylabel('Actual value')\n",
    "pl.show()\n",
    "print(a)"
   ]
  },
  {
   "cell_type": "code",
   "execution_count": 25,
   "metadata": {
    "collapsed": true
   },
   "outputs": [],
   "source": [
    "# Now, we can see that AdaBoost made a significant improvement compared to Random Forest Algo. Moreover the Confussion \n",
    "# matrix looks much better, meaning the misclassification rate is lower than in any other classifiers. In conclusion we\n",
    "# can predict with 97% accuracy if a certain employee would leave the company or not, based only on 6 features (all of\n",
    "# which seems to be important as expressed in PCA analysis)"
   ]
  }
 ],
 "metadata": {
  "kernelspec": {
   "display_name": "Python 3",
   "language": "python",
   "name": "python3"
  },
  "language_info": {
   "codemirror_mode": {
    "name": "ipython",
    "version": 3
   },
   "file_extension": ".py",
   "mimetype": "text/x-python",
   "name": "python",
   "nbconvert_exporter": "python",
   "pygments_lexer": "ipython3",
   "version": "3.6.0"
  }
 },
 "nbformat": 4,
 "nbformat_minor": 2
}
