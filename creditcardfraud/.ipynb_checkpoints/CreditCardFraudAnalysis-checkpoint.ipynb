{
 "cells": [
  {
   "cell_type": "markdown",
   "metadata": {},
   "source": [
    "#####  Just for fun\n",
    "*I will model data about credit card users to predict if someone is biased to steal from the bank. This classification problem is binary and I will use different models in order to compare them. I will first start with boosted trees (XGBoost).*\n",
    "\n",
    "##### Boosted Trees (as I see them)\n",
    "*Boosted trees*:\n",
    "    1. These are minimizing always an objective function Obj = Loss + Regularization\n",
    "        a) Notice other tree related algorithms (CART,ID3, etc) does not take this into account except when arrived at the \n",
    "        final tree, and afterwards they get pruned.\n",
    "        b) Loss = mean squared error (in other words: $L(\\theta) = \\sum_i (y_i - y_i^{hat})^2 $)\n",
    "    2. These use gradient descent to minimize the Obj function as opposed to other techniques\n",
    "        a) Notice, information gain or entropy minimization does operate with verious form of \n",
    "        $H(x) = \\sum_{x=0}^n p(x)log(p(x))$\n"
   ]
  },
  {
   "cell_type": "code",
   "execution_count": 1,
   "metadata": {},
   "outputs": [],
   "source": [
    "# Importing...\n",
    "import xgboost as xgb\n",
    "import pandas as pd\n",
    "import numpy as np\n",
    "from sklearn.model_selection import train_test_split\n",
    "from sklearn.metrics import accuracy_score\n",
    "import seaborn as sns\n",
    "from matplotlib import pyplot as plt"
   ]
  },
  {
   "cell_type": "code",
   "execution_count": 2,
   "metadata": {},
   "outputs": [],
   "source": [
    "# This data is taken from Kaggle. It is already in the right format for ML algorithms.\n",
    "data = pd.read_csv(\"creditcard.csv\")"
   ]
  },
  {
   "cell_type": "code",
   "execution_count": 3,
   "metadata": {},
   "outputs": [
    {
     "name": "stdout",
     "output_type": "stream",
     "text": [
      "Index(['Time', 'V1', 'V2', 'V3', 'V4', 'V5', 'V6', 'V7', 'V8', 'V9', 'V10',\n",
      "       'V11', 'V12', 'V13', 'V14', 'V15', 'V16', 'V17', 'V18', 'V19', 'V20',\n",
      "       'V21', 'V22', 'V23', 'V24', 'V25', 'V26', 'V27', 'V28', 'Amount',\n",
      "       'Class'],\n",
      "      dtype='object')\n"
     ]
    }
   ],
   "source": [
    "# Show the features we need to work with in order to predict Class()\n",
    "print(data.columns)"
   ]
  },
  {
   "cell_type": "code",
   "execution_count": 4,
   "metadata": {},
   "outputs": [
    {
     "data": {
      "text/html": [
       "<div>\n",
       "<table border=\"1\" class=\"dataframe\">\n",
       "  <thead>\n",
       "    <tr style=\"text-align: right;\">\n",
       "      <th></th>\n",
       "      <th>Time</th>\n",
       "      <th>Class</th>\n",
       "    </tr>\n",
       "  </thead>\n",
       "  <tbody>\n",
       "    <tr>\n",
       "      <th>Time</th>\n",
       "      <td>1.000000</td>\n",
       "      <td>-0.012323</td>\n",
       "    </tr>\n",
       "    <tr>\n",
       "      <th>Class</th>\n",
       "      <td>-0.012323</td>\n",
       "      <td>1.000000</td>\n",
       "    </tr>\n",
       "  </tbody>\n",
       "</table>\n",
       "</div>"
      ],
      "text/plain": [
       "           Time     Class\n",
       "Time   1.000000 -0.012323\n",
       "Class -0.012323  1.000000"
      ]
     },
     "execution_count": 4,
     "metadata": {},
     "output_type": "execute_result"
    }
   ],
   "source": [
    "# It is Interesting, because we have time as feature. My hunch is that this is irrelevant because (in my  opinion) is a flow \n",
    "# that doesn`t correlate with the event we are studying (stealing money -just to remind you- :) ). Those 2 events are independent\n",
    "# in my head. Let`s test to see if I am right.\n",
    "testCorrelation = data[['Time','Class']]\n",
    "testCorrelation.corr()"
   ]
  },
  {
   "cell_type": "code",
   "execution_count": 5,
   "metadata": {},
   "outputs": [
    {
     "name": "stderr",
     "output_type": "stream",
     "text": [
      "c:\\users\\skfdjh\\appdata\\local\\programs\\python\\python35\\lib\\site-packages\\seaborn\\matrix.py:143: DeprecationWarning: elementwise == comparison failed; this will raise an error in the future.\n",
      "  if xticklabels == []:\n",
      "c:\\users\\skfdjh\\appdata\\local\\programs\\python\\python35\\lib\\site-packages\\seaborn\\matrix.py:151: DeprecationWarning: elementwise == comparison failed; this will raise an error in the future.\n",
      "  if yticklabels == []:\n"
     ]
    },
    {
     "data": {
      "image/png": "[encoded data removed]",
      "text/plain": [
       "<matplotlib.figure.Figure at 0x22e6b7d50b8>"
      ]
     },
     "metadata": {},
     "output_type": "display_data"
    }
   ],
   "source": [
    "# I told you :) They are not correlated. We just drop this column/feature and prepare the rest of the data\n",
    "# just for sanity check one more trick\n",
    "features = data.columns.tolist()[1:]      # skip time column\n",
    "dataCorrelation = data[features].corr()\n",
    "sns.heatmap(dataCorrelation)              # plot it nicely\n",
    "plt.show()"
   ]
  },
  {
   "cell_type": "code",
   "execution_count": 6,
   "metadata": {},
   "outputs": [],
   "source": [
    "# This data is beautiful which is just another way of saying that the features are independent (just as we need them for \n",
    "# modelling)\n",
    "modified_data = data[features]\n",
    "# split data for training\n",
    "trainingX, testX, trainingY, testY = train_test_split(modified_data.iloc[:,:-1],modified_data.iloc[:,-1],test_size = 0.2)\n",
    "# # prepare data for XGBoost (it needs a special format: DMatrix)\n",
    "dModifiedData = xgb.DMatrix(data=modified_data[features[:-1]],label=modified_data[features[-1]])  # for 5-fold CV calculation\n",
    "dTrain = xgb.DMatrix(data=trainingX,label=trainingY)                               # for computing the actual model\n",
    "dTest = xgb.DMatrix(data=testX,label=testY)                                        # for computing the actual model \n"
   ]
  },
  {
   "cell_type": "code",
   "execution_count": 7,
   "metadata": {},
   "outputs": [
    {
     "name": "stdout",
     "output_type": "stream",
     "text": [
      "[0]\ttrain-auc:0.918585+0.00240349\ttest-auc:0.917364+0.00976247\n",
      "[1]\ttrain-auc:0.918587+0.00240528\ttest-auc:0.917365+0.00976214\n",
      "[2]\ttrain-auc:0.918587+0.00240481\ttest-auc:0.917365+0.00976235\n",
      "[3]\ttrain-auc:0.918589+0.00240617\ttest-auc:0.917366+0.00975745\n",
      "[4]\ttrain-auc:0.91859+0.0024062\ttest-auc:0.917367+0.00975768\n",
      "[5]\ttrain-auc:0.91859+0.00240627\ttest-auc:0.917368+0.0097571\n",
      "[6]\ttrain-auc:0.91859+0.0024066\ttest-auc:0.917369+0.00975811\n",
      "[7]\ttrain-auc:0.91859+0.00240635\ttest-auc:0.91737+0.00975879\n",
      "[8]\ttrain-auc:0.919608+0.0019062\ttest-auc:0.917363+0.00975245\n",
      "[9]\ttrain-auc:0.919609+0.0019057\ttest-auc:0.917363+0.00975197\n",
      "[10]\ttrain-auc:0.91961+0.0019059\ttest-auc:0.917364+0.00975305\n",
      "[11]\ttrain-auc:0.91961+0.0019055\ttest-auc:0.917363+0.00975369\n",
      "[12]\ttrain-auc:0.91961+0.0019056\ttest-auc:0.917363+0.00975381\n",
      "[13]\ttrain-auc:0.91961+0.0019056\ttest-auc:0.917363+0.0097541\n",
      "[14]\ttrain-auc:0.919611+0.0019061\ttest-auc:0.917364+0.00975498\n",
      "[15]\ttrain-auc:0.919612+0.00190761\ttest-auc:0.917364+0.00975633\n",
      "[16]\ttrain-auc:0.919612+0.00190761\ttest-auc:0.917364+0.00975618\n",
      "[17]\ttrain-auc:0.919612+0.00190761\ttest-auc:0.917365+0.00975632\n",
      "[18]\ttrain-auc:0.919612+0.00190822\ttest-auc:0.917365+0.00975657\n",
      "[19]\ttrain-auc:0.919612+0.00190822\ttest-auc:0.917365+0.00975622\n",
      "[20]\ttrain-auc:0.919613+0.00190822\ttest-auc:0.917366+0.00975634\n",
      "[21]\ttrain-auc:0.919613+0.00190822\ttest-auc:0.917366+0.00975634\n",
      "[22]\ttrain-auc:0.919613+0.00190821\ttest-auc:0.917366+0.00975679\n",
      "[23]\ttrain-auc:0.919613+0.00190822\ttest-auc:0.917366+0.00975652\n",
      "[24]\ttrain-auc:0.919613+0.00190821\ttest-auc:0.917366+0.00975669\n",
      "[25]\ttrain-auc:0.919613+0.00190831\ttest-auc:0.917366+0.00975719\n",
      "[26]\ttrain-auc:0.919613+0.00190831\ttest-auc:0.917366+0.00975719\n",
      "[27]\ttrain-auc:0.919614+0.00190821\ttest-auc:0.917365+0.00975729\n",
      "[28]\ttrain-auc:0.919614+0.00190821\ttest-auc:0.917365+0.00975718\n",
      "[29]\ttrain-auc:0.919614+0.00190821\ttest-auc:0.917366+0.00975747\n",
      "[30]\ttrain-auc:0.919614+0.00190811\ttest-auc:0.917365+0.00975767\n",
      "[31]\ttrain-auc:0.919615+0.0019081\ttest-auc:0.917365+0.00975767\n",
      "[32]\ttrain-auc:0.919615+0.00190821\ttest-auc:0.917366+0.00975747\n",
      "[33]\ttrain-auc:0.919615+0.00190821\ttest-auc:0.917366+0.00975736\n",
      "[34]\ttrain-auc:0.919615+0.00190791\ttest-auc:0.917366+0.00975736\n",
      "[35]\ttrain-auc:0.919615+0.00190781\ttest-auc:0.917365+0.00975718\n",
      "[36]\ttrain-auc:0.919615+0.0019081\ttest-auc:0.917366+0.00975726\n",
      "[37]\ttrain-auc:0.919615+0.001908\ttest-auc:0.917365+0.00975682\n",
      "[38]\ttrain-auc:0.919615+0.001908\ttest-auc:0.917365+0.00975608\n",
      "[39]\ttrain-auc:0.919615+0.001908\ttest-auc:0.917365+0.00975635\n",
      "[40]\ttrain-auc:0.920623+0.00367539\ttest-auc:0.917355+0.00977229\n",
      "[41]\ttrain-auc:0.920623+0.00367539\ttest-auc:0.917355+0.00977224\n",
      "[42]\ttrain-auc:0.920623+0.00367539\ttest-auc:0.917355+0.00977204\n",
      "[43]\ttrain-auc:0.920623+0.00367539\ttest-auc:0.917355+0.00977178\n",
      "[44]\ttrain-auc:0.920623+0.00367539\ttest-auc:0.917355+0.00977215\n",
      "[45]\ttrain-auc:0.921617+0.00368164\ttest-auc:0.918436+0.00951771\n",
      "[46]\ttrain-auc:0.921617+0.00368261\ttest-auc:0.918435+0.00951786\n",
      "[47]\ttrain-auc:0.921618+0.00368282\ttest-auc:0.918435+0.0095176\n",
      "[48]\ttrain-auc:0.921618+0.00368326\ttest-auc:0.918435+0.00951768\n",
      "[49]\ttrain-auc:0.921618+0.00368325\ttest-auc:0.918436+0.00951778\n"
     ]
    }
   ],
   "source": [
    "# Start the 5-fold CV\n",
    "# But first let`s set the parameters for xgboost\n",
    "params = {'updater':'grow_gpu',          # use GPU to train the model\n",
    "         'eta':0.01,                     # learning rate, small to not oscilate\n",
    "          'eval_metric':'auc',           # evaluation metric : area under curve\n",
    "          'silent':0,                    # verbose\n",
    "          'objective':'binary:logistic'  # because we have only 2 classes\n",
    "         }\n",
    "resultsCV = xgb.cv(params=params,nfold=5,num_boost_round=50,dtrain=dModifiedData,verbose_eval=True)"
   ]
  },
  {
   "cell_type": "code",
   "execution_count": 8,
   "metadata": {},
   "outputs": [
    {
     "data": {
      "image/png": "[encoded data removed]",
      "text/plain": [
       "<matplotlib.figure.Figure at 0x22e0034bf28>"
      ]
     },
     "metadata": {},
     "output_type": "display_data"
    }
   ],
   "source": [
    "# Ploting the performance on 5-fold CV\n",
    "plt.plot(resultsCV['test-auc-mean'])\n",
    "plt.ylabel('AUC value')\n",
    "plt.xlabel('# of boosting rounds')\n",
    "plt.title('Best # of boosting rounds for maximizing AUC')\n",
    "plt.show()"
   ]
  },
  {
   "cell_type": "code",
   "execution_count": 9,
   "metadata": {},
   "outputs": [
    {
     "name": "stdout",
     "output_type": "stream",
     "text": [
      "45\n"
     ]
    }
   ],
   "source": [
    "# Find the first occurance of the max AUC\n",
    "nrBoostedRounds = resultsCV[resultsCV['test-auc-mean'].max() == resultsCV['test-auc-mean']].index[0] \n",
    "print(nrBoostedRounds)"
   ]
  },
  {
   "cell_type": "code",
   "execution_count": 10,
   "metadata": {},
   "outputs": [
    {
     "name": "stdout",
     "output_type": "stream",
     "text": [
      "[0]\ttrain-auc:0.916122\ttest-auc:0.927757\n",
      "[1]\ttrain-auc:0.916122\ttest-auc:0.927756\n",
      "[2]\ttrain-auc:0.916122\ttest-auc:0.927756\n",
      "[3]\ttrain-auc:0.916122\ttest-auc:0.927757\n",
      "[4]\ttrain-auc:0.916126\ttest-auc:0.927757\n",
      "[5]\ttrain-auc:0.916126\ttest-auc:0.927756\n",
      "[6]\ttrain-auc:0.916126\ttest-auc:0.927756\n",
      "[7]\ttrain-auc:0.916127\ttest-auc:0.927764\n",
      "[8]\ttrain-auc:0.916127\ttest-auc:0.927763\n",
      "[9]\ttrain-auc:0.916132\ttest-auc:0.927764\n",
      "[10]\ttrain-auc:0.916132\ttest-auc:0.927763\n",
      "[11]\ttrain-auc:0.916135\ttest-auc:0.927768\n",
      "[12]\ttrain-auc:0.916136\ttest-auc:0.927769\n",
      "[13]\ttrain-auc:0.916136\ttest-auc:0.927769\n",
      "[14]\ttrain-auc:0.916136\ttest-auc:0.92777\n",
      "[15]\ttrain-auc:0.916137\ttest-auc:0.927771\n",
      "[16]\ttrain-auc:0.916137\ttest-auc:0.927771\n",
      "[17]\ttrain-auc:0.916137\ttest-auc:0.927772\n",
      "[18]\ttrain-auc:0.916137\ttest-auc:0.927772\n",
      "[19]\ttrain-auc:0.916137\ttest-auc:0.927773\n",
      "[20]\ttrain-auc:0.916137\ttest-auc:0.927773\n",
      "[21]\ttrain-auc:0.916137\ttest-auc:0.927773\n",
      "[22]\ttrain-auc:0.916137\ttest-auc:0.927772\n",
      "[23]\ttrain-auc:0.916138\ttest-auc:0.927773\n",
      "[24]\ttrain-auc:0.916138\ttest-auc:0.927773\n",
      "[25]\ttrain-auc:0.916138\ttest-auc:0.927773\n",
      "[26]\ttrain-auc:0.916138\ttest-auc:0.927773\n",
      "[27]\ttrain-auc:0.916138\ttest-auc:0.927773\n",
      "[28]\ttrain-auc:0.916139\ttest-auc:0.927773\n",
      "[29]\ttrain-auc:0.916139\ttest-auc:0.927773\n",
      "[30]\ttrain-auc:0.916139\ttest-auc:0.927773\n",
      "[31]\ttrain-auc:0.916139\ttest-auc:0.927773\n",
      "[32]\ttrain-auc:0.916139\ttest-auc:0.927774\n",
      "[33]\ttrain-auc:0.916139\ttest-auc:0.927773\n",
      "[34]\ttrain-auc:0.916139\ttest-auc:0.927773\n",
      "[35]\ttrain-auc:0.916139\ttest-auc:0.927773\n",
      "[36]\ttrain-auc:0.916139\ttest-auc:0.927773\n",
      "[37]\ttrain-auc:0.916139\ttest-auc:0.927773\n",
      "[38]\ttrain-auc:0.916139\ttest-auc:0.927774\n",
      "[39]\ttrain-auc:0.916139\ttest-auc:0.927772\n",
      "[40]\ttrain-auc:0.916139\ttest-auc:0.927771\n",
      "[41]\ttrain-auc:0.916139\ttest-auc:0.927771\n",
      "[42]\ttrain-auc:0.916139\ttest-auc:0.927774\n",
      "[43]\ttrain-auc:0.916139\ttest-auc:0.927774\n",
      "[44]\ttrain-auc:0.916139\ttest-auc:0.927776\n"
     ]
    }
   ],
   "source": [
    "# Train the model give I know nrBoostedRounds\n",
    "results = {}  #saving the results from evals\n",
    "model = xgb.train(dtrain=dTrain,verbose_eval = True,num_boost_round=nrBoostedRounds,\n",
    "                  params=params,evals=[(dTrain,'train'),(dTest,'test')],\n",
    "                  evals_result = results)"
   ]
  },
  {
   "cell_type": "code",
   "execution_count": 11,
   "metadata": {},
   "outputs": [
    {
     "data": {
      "image/png": "[encoded data removed]",
      "text/plain": [
       "<matplotlib.figure.Figure at 0x22e047f2898>"
      ]
     },
     "metadata": {},
     "output_type": "display_data"
    }
   ],
   "source": [
    "# Plot the results of the model\n",
    "plt.plot(results['test']['auc'])\n",
    "plt.ylabel('AUC value')\n",
    "plt.xlabel('# of boosting rounds')\n",
    "plt.title('Trained model')\n",
    "plt.show()"
   ]
  },
  {
   "cell_type": "code",
   "execution_count": 12,
   "metadata": {},
   "outputs": [
    {
     "name": "stdout",
     "output_type": "stream",
     "text": [
      "The accuracy of Gradient Boosted trees is: 99.8174221411 %\n"
     ]
    }
   ],
   "source": [
    "# Check what accuracy does we have\n",
    "dTestX = xgb.DMatrix(testX)\n",
    "print(\"The accuracy of Gradient Boosted trees is:\",\n",
    "      accuracy_score(y_true=testY,y_pred=model.predict(dTestX).astype('int')) * 100 ,\n",
    "     \"%\")"
   ]
  },
  {
   "cell_type": "markdown",
   "metadata": {},
   "source": [
    "##### Random Forests with H2O\n",
    "*This is an ensemble method. It just means that we construct as many trees as you want (in my case 100 trees),and take the \n",
    "prediction of each to construct the final prediction as a weighted sum. This can be summariezed:*\n",
    "    1. While currentNumberOfTrees < desiredNumberOfTrees\n",
    "        1.1 Grow a tree\n",
    "        1.2 Prune it and stack it into queue\n",
    "    2. currentPrediction = $ \\sum_{i=0}^{desiredNumberOfTrees} predictionFromEachTree* \\omega_i $\n",
    "    where $\\omega_i$ is a weighting factor and has the following property: \n",
    "    $ \\sum_{i=0}^{N} \\omega_{i} $\n"
   ]
  },
  {
   "cell_type": "code",
   "execution_count": 13,
   "metadata": {},
   "outputs": [],
   "source": [
    "import h2o\n",
    "from h2o.estimators.random_forest import H2ORandomForestEstimator"
   ]
  },
  {
   "cell_type": "code",
   "execution_count": 14,
   "metadata": {},
   "outputs": [
    {
     "name": "stdout",
     "output_type": "stream",
     "text": [
      "Checking whether there is an H2O instance running at http://localhost:54321..... not found.\n",
      "Attempting to start a local H2O server...\n",
      "; Java HotSpot(TM) 64-Bit Server VM (build 25.144-b01, mixed mode)\n",
      "  Starting server from c:\\users\\skfdjh\\appdata\\local\\programs\\python\\python35\\lib\\site-packages\\h2o\\backend\\bin\\h2o.jar\n",
      "  Ice root: C:\\Users\\skfdjh\\AppData\\Local\\Temp\\tmp55g_6c3b\n",
      "  JVM stdout: C:\\Users\\skfdjh\\AppData\\Local\\Temp\\tmp55g_6c3b\\h2o_skfdjh_started_from_python.out\n",
      "  JVM stderr: C:\\Users\\skfdjh\\AppData\\Local\\Temp\\tmp55g_6c3b\\h2o_skfdjh_started_from_python.err\n",
      "  Server is running at http://127.0.0.1:54321\n",
      "Connecting to H2O server at http://127.0.0.1:54321... successful.\n",
      "Warning: Your H2O cluster version is too old (4 months and 6 days)! Please download and install the latest version from http://h2o.ai/download/\n"
     ]
    },
    {
     "data": {
      "text/html": [
       "<div style=\"overflow:auto\"><table style=\"width:50%\"><tr><td>H2O cluster uptime:</td>\n",
       "<td>05 secs</td></tr>\n",
       "<tr><td>H2O cluster version:</td>\n",
       "<td>3.10.4.8</td></tr>\n",
       "<tr><td>H2O cluster version age:</td>\n",
       "<td>4 months and 6 days !!!</td></tr>\n",
       "<tr><td>H2O cluster name:</td>\n",
       "<td>H2O_from_python_skfdjh_pm5jyo</td></tr>\n",
       "<tr><td>H2O cluster total nodes:</td>\n",
       "<td>1</td></tr>\n",
       "<tr><td>H2O cluster free memory:</td>\n",
       "<td>3.540 Gb</td></tr>\n",
       "<tr><td>H2O cluster total cores:</td>\n",
       "<td>8</td></tr>\n",
       "<tr><td>H2O cluster allowed cores:</td>\n",
       "<td>8</td></tr>\n",
       "<tr><td>H2O cluster status:</td>\n",
       "<td>accepting new members, healthy</td></tr>\n",
       "<tr><td>H2O connection url:</td>\n",
       "<td>http://127.0.0.1:54321</td></tr>\n",
       "<tr><td>H2O connection proxy:</td>\n",
       "<td>None</td></tr>\n",
       "<tr><td>H2O internal security:</td>\n",
       "<td>False</td></tr>\n",
       "<tr><td>Python version:</td>\n",
       "<td>3.5.3 final</td></tr></table></div>"
      ],
      "text/plain": [
       "--------------------------  ------------------------------\n",
       "H2O cluster uptime:         05 secs\n",
       "H2O cluster version:        3.10.4.8\n",
       "H2O cluster version age:    4 months and 6 days !!!\n",
       "H2O cluster name:           H2O_from_python_skfdjh_pm5jyo\n",
       "H2O cluster total nodes:    1\n",
       "H2O cluster free memory:    3.540 Gb\n",
       "H2O cluster total cores:    8\n",
       "H2O cluster allowed cores:  8\n",
       "H2O cluster status:         accepting new members, healthy\n",
       "H2O connection url:         http://127.0.0.1:54321\n",
       "H2O connection proxy:\n",
       "H2O internal security:      False\n",
       "Python version:             3.5.3 final\n",
       "--------------------------  ------------------------------"
      ]
     },
     "metadata": {},
     "output_type": "display_data"
    }
   ],
   "source": [
    "# Initialize a local cluster with 6Gb RAM\n",
    "h2o.init(min_mem_size='1g')"
   ]
  },
  {
   "cell_type": "code",
   "execution_count": 15,
   "metadata": {},
   "outputs": [
    {
     "name": "stdout",
     "output_type": "stream",
     "text": [
      "Parse progress: |█████████████████████████████████████████████████████████| 100%\n"
     ]
    }
   ],
   "source": [
    "# Get data into h2oDataframe\n",
    "h2oData = h2o.import_file('creditcard.csv')"
   ]
  },
  {
   "cell_type": "code",
   "execution_count": 16,
   "metadata": {},
   "outputs": [],
   "source": [
    "# Getting data into 2 sets (train, test)\n",
    "train,test = h2oData.split_frame(ratios=[0.8])"
   ]
  },
  {
   "cell_type": "code",
   "execution_count": 17,
   "metadata": {},
   "outputs": [],
   "source": [
    "# Create the model\n",
    "modelRandomForests = H2ORandomForestEstimator(fold_assignment=\"Modulo\",max_depth = 3,\n",
    "                                             keep_cross_validation_predictions = True,nfolds=5, ntrees=100)"
   ]
  },
  {
   "cell_type": "code",
   "execution_count": 18,
   "metadata": {},
   "outputs": [],
   "source": [
    "# Obtain the column names of features\n",
    "featuresForTraining = h2oData.columns[1:-2]\n",
    "featuresForClassification = h2oData.columns[-1]"
   ]
  },
  {
   "cell_type": "code",
   "execution_count": 19,
   "metadata": {},
   "outputs": [
    {
     "name": "stdout",
     "output_type": "stream",
     "text": [
      "drf Model Build progress: |███████████████████████████████████████████████| 100%\n"
     ]
    }
   ],
   "source": [
    "# Train the model\n",
    "modelRandomForests.train(x=featuresForTraining,y=featuresForClassification,training_frame=train,validation_frame=test)"
   ]
  },
  {
   "cell_type": "code",
   "execution_count": 20,
   "metadata": {},
   "outputs": [
    {
     "data": {
      "image/png": "[encoded data removed]",
      "text/plain": [
       "<matplotlib.figure.Figure at 0x22e085dac50>"
      ]
     },
     "metadata": {},
     "output_type": "display_data"
    }
   ],
   "source": [
    "# Plot the feature importance\n",
    "modelRandomForests.varimp_plot()"
   ]
  },
  {
   "cell_type": "code",
   "execution_count": 21,
   "metadata": {},
   "outputs": [
    {
     "name": "stdout",
     "output_type": "stream",
     "text": [
      "drf prediction progress: |████████████████████████████████████████████████| 100%\n"
     ]
    }
   ],
   "source": [
    "# Convert the H2oDataframe into a list in order to use sklearn score_accuracy\n",
    "yPredictedResultAsList = (modelRandomForests.predict(test)).as_data_frame().astype('int')\n",
    "yTrueResultAsList = test[-1].as_data_frame().values.tolist()"
   ]
  },
  {
   "cell_type": "code",
   "execution_count": 23,
   "metadata": {},
   "outputs": [
    {
     "name": "stdout",
     "output_type": "stream",
     "text": [
      "The accuracy of random forests is: 99.8489054429%\n"
     ]
    }
   ],
   "source": [
    "print(\"The accuracy of random forests is: \"+ str(accuracy_score(y_true=yTrueResultAsList,y_pred=yPredictedResultAsList)*100)+\"%\")"
   ]
  },
  {
   "cell_type": "code",
   "execution_count": null,
   "metadata": {},
   "outputs": [],
   "source": []
  }
 ],
 "metadata": {
  "kernelspec": {
   "display_name": "Python 3",
   "language": "python",
   "name": "python3"
  },
  "language_info": {
   "codemirror_mode": {
    "name": "ipython",
    "version": 3
   },
   "file_extension": ".py",
   "mimetype": "text/x-python",
   "name": "python",
   "nbconvert_exporter": "python",
   "pygments_lexer": "ipython3",
   "version": "3.5.3"
  }
 },
 "nbformat": 4,
 "nbformat_minor": 1
}
